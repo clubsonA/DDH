{
 "cells": [
  {
   "cell_type": "code",
   "execution_count": null,
   "id": "3e1f471a",
   "metadata": {
    "vscode": {
     "languageId": "plaintext"
    }
   },
   "outputs": [],
   "source": [
    "!python hedger.py"
   ]
  }
 ],
 "metadata": {
  "language_info": {
   "name": "python"
  }
 },
 "nbformat": 4,
 "nbformat_minor": 5
}
